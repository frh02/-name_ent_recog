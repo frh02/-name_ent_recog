{
  "nbformat": 4,
  "nbformat_minor": 0,
  "metadata": {
    "colab": {
      "name": "NeR_Text.ipynb",
      "provenance": []
    },
    "kernelspec": {
      "name": "python3",
      "display_name": "Python 3"
    },
    "language_info": {
      "name": "python"
    }
  },
  "cells": [
    {
      "cell_type": "code",
      "metadata": {
        "id": "CKxHwJS8ZAc3"
      },
      "source": [
        "import nltk\n",
        "import pandas as pd"
      ],
      "execution_count": 1,
      "outputs": []
    },
    {
      "cell_type": "code",
      "metadata": {
        "colab": {
          "base_uri": "https://localhost:8080/"
        },
        "id": "lbVo3JmvZPt7",
        "outputId": "78bf9ecc-2008-4b30-c992-76f0c805ef37"
      },
      "source": [
        "nltk.download('punkt')"
      ],
      "execution_count": 5,
      "outputs": [
        {
          "output_type": "stream",
          "name": "stdout",
          "text": [
            "[nltk_data] Downloading package punkt to /root/nltk_data...\n",
            "[nltk_data]   Unzipping tokenizers/punkt.zip.\n"
          ]
        },
        {
          "output_type": "execute_result",
          "data": {
            "text/plain": [
              "True"
            ]
          },
          "metadata": {},
          "execution_count": 5
        }
      ]
    },
    {
      "cell_type": "code",
      "metadata": {
        "id": "lTQiCO6CZDo5"
      },
      "source": [
        "text = \"Apple acquired Zoom in China on Wednesday 6th May 2020.\\\n",
        "This news has made Apple and Google stock jump by 5% on Dow Jones Index in the \\\n",
        "United States of America\""
      ],
      "execution_count": 2,
      "outputs": []
    },
    {
      "cell_type": "code",
      "metadata": {
        "colab": {
          "base_uri": "https://localhost:8080/"
        },
        "id": "4479B_kgZG1s",
        "outputId": "8aab1715-5a8d-436f-b51f-c3e621b2c80a"
      },
      "source": [
        "#tokenize to words\n",
        "words = nltk.word_tokenize(text)\n",
        "words"
      ],
      "execution_count": 6,
      "outputs": [
        {
          "output_type": "execute_result",
          "data": {
            "text/plain": [
              "['Apple',\n",
              " 'acquired',\n",
              " 'Zoom',\n",
              " 'in',\n",
              " 'China',\n",
              " 'on',\n",
              " 'Wednesday',\n",
              " '6th',\n",
              " 'May',\n",
              " '2020.This',\n",
              " 'news',\n",
              " 'has',\n",
              " 'made',\n",
              " 'Apple',\n",
              " 'and',\n",
              " 'Google',\n",
              " 'stock',\n",
              " 'jump',\n",
              " 'by',\n",
              " '5',\n",
              " '%',\n",
              " 'on',\n",
              " 'Dow',\n",
              " 'Jones',\n",
              " 'Index',\n",
              " 'in',\n",
              " 'the',\n",
              " 'United',\n",
              " 'States',\n",
              " 'of',\n",
              " 'America']"
            ]
          },
          "metadata": {},
          "execution_count": 6
        }
      ]
    },
    {
      "cell_type": "code",
      "metadata": {
        "colab": {
          "base_uri": "https://localhost:8080/"
        },
        "id": "OGbdgm82ZXDx",
        "outputId": "284e5c6a-090a-4814-da8d-11508308850c"
      },
      "source": [
        "nltk.download('averaged_perceptron_tagger')"
      ],
      "execution_count": 8,
      "outputs": [
        {
          "output_type": "stream",
          "name": "stdout",
          "text": [
            "[nltk_data] Downloading package averaged_perceptron_tagger to\n",
            "[nltk_data]     /root/nltk_data...\n",
            "[nltk_data]   Unzipping taggers/averaged_perceptron_tagger.zip.\n"
          ]
        },
        {
          "output_type": "execute_result",
          "data": {
            "text/plain": [
              "True"
            ]
          },
          "metadata": {},
          "execution_count": 8
        }
      ]
    },
    {
      "cell_type": "code",
      "metadata": {
        "colab": {
          "base_uri": "https://localhost:8080/"
        },
        "id": "5whifi4BZTZv",
        "outputId": "48b9a75f-679f-4d32-f208-0281c858a475"
      },
      "source": [
        "\n",
        "#Part of speech tagging\n",
        "pos_tags = nltk.pos_tag(words)\n",
        "pos_tags"
      ],
      "execution_count": 9,
      "outputs": [
        {
          "output_type": "execute_result",
          "data": {
            "text/plain": [
              "[('Apple', 'NNP'),\n",
              " ('acquired', 'VBD'),\n",
              " ('Zoom', 'NNP'),\n",
              " ('in', 'IN'),\n",
              " ('China', 'NNP'),\n",
              " ('on', 'IN'),\n",
              " ('Wednesday', 'NNP'),\n",
              " ('6th', 'CD'),\n",
              " ('May', 'NNP'),\n",
              " ('2020.This', 'CD'),\n",
              " ('news', 'NN'),\n",
              " ('has', 'VBZ'),\n",
              " ('made', 'VBN'),\n",
              " ('Apple', 'NNP'),\n",
              " ('and', 'CC'),\n",
              " ('Google', 'NNP'),\n",
              " ('stock', 'NN'),\n",
              " ('jump', 'NN'),\n",
              " ('by', 'IN'),\n",
              " ('5', 'CD'),\n",
              " ('%', 'NN'),\n",
              " ('on', 'IN'),\n",
              " ('Dow', 'NNP'),\n",
              " ('Jones', 'NNP'),\n",
              " ('Index', 'NNP'),\n",
              " ('in', 'IN'),\n",
              " ('the', 'DT'),\n",
              " ('United', 'NNP'),\n",
              " ('States', 'NNPS'),\n",
              " ('of', 'IN'),\n",
              " ('America', 'NNP')]"
            ]
          },
          "metadata": {},
          "execution_count": 9
        }
      ]
    },
    {
      "cell_type": "code",
      "metadata": {
        "colab": {
          "base_uri": "https://localhost:8080/"
        },
        "id": "epwRGT43ZgSz",
        "outputId": "cd2a58af-0467-4aa7-9ea5-9bb63fab75fb"
      },
      "source": [
        "nltk.download('tagsets')"
      ],
      "execution_count": 11,
      "outputs": [
        {
          "output_type": "stream",
          "name": "stdout",
          "text": [
            "[nltk_data] Downloading package tagsets to /root/nltk_data...\n",
            "[nltk_data]   Unzipping help/tagsets.zip.\n"
          ]
        },
        {
          "output_type": "execute_result",
          "data": {
            "text/plain": [
              "True"
            ]
          },
          "metadata": {},
          "execution_count": 11
        }
      ]
    },
    {
      "cell_type": "code",
      "metadata": {
        "colab": {
          "base_uri": "https://localhost:8080/"
        },
        "id": "nXUc0JGaZeLt",
        "outputId": "f4f6aab5-69f2-4e2e-9430-099417b4d78a"
      },
      "source": [
        "#check nltk help for description of the tag\n",
        "nltk.help.upenn_tagset('NNP')"
      ],
      "execution_count": 12,
      "outputs": [
        {
          "output_type": "stream",
          "name": "stdout",
          "text": [
            "NNP: noun, proper, singular\n",
            "    Motown Venneboerger Czestochwa Ranzer Conchita Trumplane Christos\n",
            "    Oceanside Escobar Kreisler Sawyer Cougar Yvette Ervin ODI Darryl CTCA\n",
            "    Shannon A.K.C. Meltex Liverpool ...\n"
          ]
        }
      ]
    },
    {
      "cell_type": "code",
      "metadata": {
        "colab": {
          "base_uri": "https://localhost:8080/"
        },
        "id": "7NamQERwZqEq",
        "outputId": "f4ee5946-324e-405d-bbce-3548321c5a45"
      },
      "source": [
        "nltk.download('maxent_ne_chunker')"
      ],
      "execution_count": 16,
      "outputs": [
        {
          "output_type": "stream",
          "name": "stdout",
          "text": [
            "[nltk_data] Downloading package maxent_ne_chunker to\n",
            "[nltk_data]     /root/nltk_data...\n",
            "[nltk_data]   Package maxent_ne_chunker is already up-to-date!\n"
          ]
        },
        {
          "output_type": "execute_result",
          "data": {
            "text/plain": [
              "True"
            ]
          },
          "metadata": {},
          "execution_count": 16
        }
      ]
    },
    {
      "cell_type": "code",
      "metadata": {
        "id": "dvmkTxO6ZtXt"
      },
      "source": [
        "nltk.download('words')"
      ],
      "execution_count": null,
      "outputs": []
    },
    {
      "cell_type": "code",
      "metadata": {
        "colab": {
          "base_uri": "https://localhost:8080/"
        },
        "id": "2NLE6MC7Zknh",
        "outputId": "c340a52a-7a48-4ee7-85ae-7f6806a93e04"
      },
      "source": [
        "chunks = nltk.ne_chunk(pos_tags, binary=True) #either NE or not NE\n",
        "for chunk in chunks:\n",
        "    print(chunk)"
      ],
      "execution_count": 19,
      "outputs": [
        {
          "output_type": "stream",
          "name": "stdout",
          "text": [
            "(NE Apple/NNP)\n",
            "('acquired', 'VBD')\n",
            "('Zoom', 'NNP')\n",
            "('in', 'IN')\n",
            "(NE China/NNP)\n",
            "('on', 'IN')\n",
            "('Wednesday', 'NNP')\n",
            "('6th', 'CD')\n",
            "('May', 'NNP')\n",
            "('2020.This', 'CD')\n",
            "('news', 'NN')\n",
            "('has', 'VBZ')\n",
            "('made', 'VBN')\n",
            "(NE Apple/NNP)\n",
            "('and', 'CC')\n",
            "(NE Google/NNP)\n",
            "('stock', 'NN')\n",
            "('jump', 'NN')\n",
            "('by', 'IN')\n",
            "('5', 'CD')\n",
            "('%', 'NN')\n",
            "('on', 'IN')\n",
            "('Dow', 'NNP')\n",
            "('Jones', 'NNP')\n",
            "('Index', 'NNP')\n",
            "('in', 'IN')\n",
            "('the', 'DT')\n",
            "(NE United/NNP States/NNPS)\n",
            "('of', 'IN')\n",
            "(NE America/NNP)\n"
          ]
        }
      ]
    },
    {
      "cell_type": "code",
      "metadata": {
        "colab": {
          "base_uri": "https://localhost:8080/",
          "height": 203
        },
        "id": "rYZ4cHeCZnTV",
        "outputId": "ebc12f73-b85b-4652-a884-46f49de7aa06"
      },
      "source": [
        "entities =[]\n",
        "labels =[]\n",
        "for chunk in chunks:\n",
        "    if hasattr(chunk,'label'):\n",
        "        #print(chunk)\n",
        "        entities.append(' '.join(c[0] for c in chunk))\n",
        "        labels.append(chunk.label())\n",
        "        \n",
        "entities_labels = list(set(zip(entities, labels)))\n",
        "entities_df = pd.DataFrame(entities_labels)\n",
        "entities_df.columns = [\"Entities\",\"Labels\"]\n",
        "entities_df"
      ],
      "execution_count": 21,
      "outputs": [
        {
          "output_type": "execute_result",
          "data": {
            "text/html": [
              "<div>\n",
              "<style scoped>\n",
              "    .dataframe tbody tr th:only-of-type {\n",
              "        vertical-align: middle;\n",
              "    }\n",
              "\n",
              "    .dataframe tbody tr th {\n",
              "        vertical-align: top;\n",
              "    }\n",
              "\n",
              "    .dataframe thead th {\n",
              "        text-align: right;\n",
              "    }\n",
              "</style>\n",
              "<table border=\"1\" class=\"dataframe\">\n",
              "  <thead>\n",
              "    <tr style=\"text-align: right;\">\n",
              "      <th></th>\n",
              "      <th>Entities</th>\n",
              "      <th>Labels</th>\n",
              "    </tr>\n",
              "  </thead>\n",
              "  <tbody>\n",
              "    <tr>\n",
              "      <th>0</th>\n",
              "      <td>Apple</td>\n",
              "      <td>NE</td>\n",
              "    </tr>\n",
              "    <tr>\n",
              "      <th>1</th>\n",
              "      <td>Google</td>\n",
              "      <td>NE</td>\n",
              "    </tr>\n",
              "    <tr>\n",
              "      <th>2</th>\n",
              "      <td>America</td>\n",
              "      <td>NE</td>\n",
              "    </tr>\n",
              "    <tr>\n",
              "      <th>3</th>\n",
              "      <td>United States</td>\n",
              "      <td>NE</td>\n",
              "    </tr>\n",
              "    <tr>\n",
              "      <th>4</th>\n",
              "      <td>China</td>\n",
              "      <td>NE</td>\n",
              "    </tr>\n",
              "  </tbody>\n",
              "</table>\n",
              "</div>"
            ],
            "text/plain": [
              "        Entities Labels\n",
              "0          Apple     NE\n",
              "1         Google     NE\n",
              "2        America     NE\n",
              "3  United States     NE\n",
              "4          China     NE"
            ]
          },
          "metadata": {},
          "execution_count": 21
        }
      ]
    },
    {
      "cell_type": "code",
      "metadata": {
        "colab": {
          "base_uri": "https://localhost:8080/",
          "height": 757
        },
        "id": "cpLWUGz-Z1jg",
        "outputId": "a9cd27db-3272-42b3-b5e8-41da4d5a3798"
      },
      "source": [
        "chunks = nltk.ne_chunk(pos_tags, binary=False) #either NE or not NE\n",
        "for chunk in chunks:\n",
        "    print(chunk)\n",
        "    \n",
        "entities =[]\n",
        "labels =[]\n",
        "for chunk in chunks:\n",
        "    if hasattr(chunk,'label'):\n",
        "        #print(chunk)\n",
        "        entities.append(' '.join(c[0] for c in chunk))\n",
        "        labels.append(chunk.label())\n",
        "        \n",
        "entities_labels = list(set(zip(entities, labels)))\n",
        "entities_df = pd.DataFrame(entities_labels)\n",
        "entities_df.columns = [\"Entities\",\"Labels\"]\n",
        "entities_df"
      ],
      "execution_count": 22,
      "outputs": [
        {
          "output_type": "stream",
          "name": "stdout",
          "text": [
            "(PERSON Apple/NNP)\n",
            "('acquired', 'VBD')\n",
            "(PERSON Zoom/NNP)\n",
            "('in', 'IN')\n",
            "(GPE China/NNP)\n",
            "('on', 'IN')\n",
            "('Wednesday', 'NNP')\n",
            "('6th', 'CD')\n",
            "('May', 'NNP')\n",
            "('2020.This', 'CD')\n",
            "('news', 'NN')\n",
            "('has', 'VBZ')\n",
            "('made', 'VBN')\n",
            "(PERSON Apple/NNP)\n",
            "('and', 'CC')\n",
            "(ORGANIZATION Google/NNP)\n",
            "('stock', 'NN')\n",
            "('jump', 'NN')\n",
            "('by', 'IN')\n",
            "('5', 'CD')\n",
            "('%', 'NN')\n",
            "('on', 'IN')\n",
            "(PERSON Dow/NNP Jones/NNP Index/NNP)\n",
            "('in', 'IN')\n",
            "('the', 'DT')\n",
            "(GPE United/NNP States/NNPS)\n",
            "('of', 'IN')\n",
            "(GPE America/NNP)\n"
          ]
        },
        {
          "output_type": "execute_result",
          "data": {
            "text/html": [
              "<div>\n",
              "<style scoped>\n",
              "    .dataframe tbody tr th:only-of-type {\n",
              "        vertical-align: middle;\n",
              "    }\n",
              "\n",
              "    .dataframe tbody tr th {\n",
              "        vertical-align: top;\n",
              "    }\n",
              "\n",
              "    .dataframe thead th {\n",
              "        text-align: right;\n",
              "    }\n",
              "</style>\n",
              "<table border=\"1\" class=\"dataframe\">\n",
              "  <thead>\n",
              "    <tr style=\"text-align: right;\">\n",
              "      <th></th>\n",
              "      <th>Entities</th>\n",
              "      <th>Labels</th>\n",
              "    </tr>\n",
              "  </thead>\n",
              "  <tbody>\n",
              "    <tr>\n",
              "      <th>0</th>\n",
              "      <td>Apple</td>\n",
              "      <td>PERSON</td>\n",
              "    </tr>\n",
              "    <tr>\n",
              "      <th>1</th>\n",
              "      <td>Google</td>\n",
              "      <td>ORGANIZATION</td>\n",
              "    </tr>\n",
              "    <tr>\n",
              "      <th>2</th>\n",
              "      <td>Dow Jones Index</td>\n",
              "      <td>PERSON</td>\n",
              "    </tr>\n",
              "    <tr>\n",
              "      <th>3</th>\n",
              "      <td>United States</td>\n",
              "      <td>GPE</td>\n",
              "    </tr>\n",
              "    <tr>\n",
              "      <th>4</th>\n",
              "      <td>China</td>\n",
              "      <td>GPE</td>\n",
              "    </tr>\n",
              "    <tr>\n",
              "      <th>5</th>\n",
              "      <td>Zoom</td>\n",
              "      <td>PERSON</td>\n",
              "    </tr>\n",
              "    <tr>\n",
              "      <th>6</th>\n",
              "      <td>America</td>\n",
              "      <td>GPE</td>\n",
              "    </tr>\n",
              "  </tbody>\n",
              "</table>\n",
              "</div>"
            ],
            "text/plain": [
              "          Entities        Labels\n",
              "0            Apple        PERSON\n",
              "1           Google  ORGANIZATION\n",
              "2  Dow Jones Index        PERSON\n",
              "3    United States           GPE\n",
              "4            China           GPE\n",
              "5             Zoom        PERSON\n",
              "6          America           GPE"
            ]
          },
          "metadata": {},
          "execution_count": 22
        }
      ]
    },
    {
      "cell_type": "code",
      "metadata": {
        "colab": {
          "base_uri": "https://localhost:8080/",
          "height": 265
        },
        "id": "a7tgRIrbZ50Q",
        "outputId": "45f4d072-d099-4db0-eed4-9fd9ff824054"
      },
      "source": [
        "entities = []\n",
        "labels = []\n",
        "\n",
        "sentence = nltk.sent_tokenize(text)\n",
        "for sent in sentence:\n",
        "    for chunk in nltk.ne_chunk(nltk.pos_tag(nltk.word_tokenize(sent)),binary=False):\n",
        "        if hasattr(chunk,'label'):\n",
        "            entities.append(' '.join(c[0] for c in chunk))\n",
        "            labels.append(chunk.label())\n",
        "            \n",
        "entities_labels = list(set(zip(entities,labels)))\n",
        "\n",
        "entities_df = pd.DataFrame(entities_labels)\n",
        "entities_df.columns = [\"Entities\",\"Labels\"]\n",
        "entities_df"
      ],
      "execution_count": 23,
      "outputs": [
        {
          "output_type": "execute_result",
          "data": {
            "text/html": [
              "<div>\n",
              "<style scoped>\n",
              "    .dataframe tbody tr th:only-of-type {\n",
              "        vertical-align: middle;\n",
              "    }\n",
              "\n",
              "    .dataframe tbody tr th {\n",
              "        vertical-align: top;\n",
              "    }\n",
              "\n",
              "    .dataframe thead th {\n",
              "        text-align: right;\n",
              "    }\n",
              "</style>\n",
              "<table border=\"1\" class=\"dataframe\">\n",
              "  <thead>\n",
              "    <tr style=\"text-align: right;\">\n",
              "      <th></th>\n",
              "      <th>Entities</th>\n",
              "      <th>Labels</th>\n",
              "    </tr>\n",
              "  </thead>\n",
              "  <tbody>\n",
              "    <tr>\n",
              "      <th>0</th>\n",
              "      <td>Apple</td>\n",
              "      <td>PERSON</td>\n",
              "    </tr>\n",
              "    <tr>\n",
              "      <th>1</th>\n",
              "      <td>Google</td>\n",
              "      <td>ORGANIZATION</td>\n",
              "    </tr>\n",
              "    <tr>\n",
              "      <th>2</th>\n",
              "      <td>Dow Jones Index</td>\n",
              "      <td>PERSON</td>\n",
              "    </tr>\n",
              "    <tr>\n",
              "      <th>3</th>\n",
              "      <td>United States</td>\n",
              "      <td>GPE</td>\n",
              "    </tr>\n",
              "    <tr>\n",
              "      <th>4</th>\n",
              "      <td>China</td>\n",
              "      <td>GPE</td>\n",
              "    </tr>\n",
              "    <tr>\n",
              "      <th>5</th>\n",
              "      <td>Zoom</td>\n",
              "      <td>PERSON</td>\n",
              "    </tr>\n",
              "    <tr>\n",
              "      <th>6</th>\n",
              "      <td>America</td>\n",
              "      <td>GPE</td>\n",
              "    </tr>\n",
              "  </tbody>\n",
              "</table>\n",
              "</div>"
            ],
            "text/plain": [
              "          Entities        Labels\n",
              "0            Apple        PERSON\n",
              "1           Google  ORGANIZATION\n",
              "2  Dow Jones Index        PERSON\n",
              "3    United States           GPE\n",
              "4            China           GPE\n",
              "5             Zoom        PERSON\n",
              "6          America           GPE"
            ]
          },
          "metadata": {},
          "execution_count": 23
        }
      ]
    }
  ]
}